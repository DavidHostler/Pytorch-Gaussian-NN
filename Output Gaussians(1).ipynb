{
 "cells": [
  {
   "cell_type": "code",
   "execution_count": 338,
   "metadata": {},
   "outputs": [],
   "source": [
    "import numpy as np\n",
    "import matplotlib.pyplot as plt\n",
    "%matplotlib inline\n",
    "import torch\n",
    "import torch.nn as nn\n",
    "from torch.autograd import Variable\n",
    "from torch.nn import functional as F\n",
    "import torch.utils.data as Data"
   ]
  },
  {
   "cell_type": "code",
   "execution_count": 340,
   "metadata": {},
   "outputs": [],
   "source": [
    "#Gaussian random generator function, analagous to Ihor's but instead \n",
    "#done entirely through Pytorch.\n",
    "\n",
    "#Generate randpom x_values\n",
    "torch.manual_seed(1)\n",
    "x = torch.unsqueeze(torch.linspace(-1, 1, 500), dim=1)  # shape=(500, 1)"
   ]
  },
  {
   "cell_type": "code",
   "execution_count": 341,
   "metadata": {},
   "outputs": [],
   "source": [
    "x =Variable(x)"
   ]
  },
  {
   "cell_type": "code",
   "execution_count": 342,
   "metadata": {},
   "outputs": [],
   "source": [
    "#Using ReLU activation\n",
    "class Model(nn.Module):\n",
    "    def __init__(self, n_feature, n_hidden, n_output):\n",
    "        super(Model, self).__init__()\n",
    "        self.hidden = torch.nn.Linear(n_feature, n_hidden)   # hidden layer\n",
    "        self.predict = torch.nn.Linear(n_hidden, n_output)   # output layer\n",
    "        \n",
    "    def forward(self, x):\n",
    "        x = F.relu(self.hidden(x))      # activation function for hidden layer\n",
    "        x = self.predict(x)             # linear output\n",
    "        return x"
   ]
  },
  {
   "cell_type": "code",
   "execution_count": 343,
   "metadata": {},
   "outputs": [],
   "source": [
    "mod = Model(n_feature=1, n_hidden=10, n_output=1)\n",
    "optimizer = torch.optim.SGD(mod.parameters(), lr=0.1)\n",
    "loss_func = torch.nn.MSELoss()   "
   ]
  },
  {
   "cell_type": "code",
   "execution_count": 350,
   "metadata": {},
   "outputs": [
    {
     "data": {
      "text/plain": [
       "torch.Size([500, 1])"
      ]
     },
     "execution_count": 350,
     "metadata": {},
     "output_type": "execute_result"
    }
   ],
   "source": [
    "prediction.data.shape"
   ]
  },
  {
   "cell_type": "code",
   "execution_count": 351,
   "metadata": {},
   "outputs": [],
   "source": [
    "import random\n",
    "random.seed(123)\n",
    "def ran_gen():\n",
    "    eigenarr =[]\n",
    "    for i in range(100):\n",
    "        #Randomly generate orbital eigenvalue for each atom specie\n",
    "        eigenval = random.uniform(-6.0, 6.0)\n",
    "        eigenarr.append(eigenval)\n",
    "        #print(eigenval)\n",
    "    return eigenarr"
   ]
  },
  {
   "cell_type": "code",
   "execution_count": 352,
   "metadata": {},
   "outputs": [],
   "source": [
    "eigen_arr = ran_gen()\n",
    "\n",
    "for i in range(0,5):\n",
    "    mean_arr = torch.FloatTensor(list(np.zeros(100) + eigen_arr[i]))"
   ]
  },
  {
   "cell_type": "code",
   "execution_count": 353,
   "metadata": {},
   "outputs": [
    {
     "data": {
      "text/plain": [
       "100"
      ]
     },
     "execution_count": 353,
     "metadata": {},
     "output_type": "execute_result"
    }
   ],
   "source": [
    "len(eigen_arr)"
   ]
  },
  {
   "cell_type": "code",
   "execution_count": 294,
   "metadata": {},
   "outputs": [],
   "source": [
    "def output_y(eigen_arr, x):\n",
    "    \n",
    "    \n",
    "    for j in range(len(eigen_arr)):\n",
    "        \n",
    "        z =  x - torch.FloatTensor(list(np.zeros(500) + eigen_arr[j]))\n",
    "        y = torch.exp(-z.pow(2)/Standard_Dev**2*2, out=None)/np.sqrt(2*np.pi*Standard_Dev)\n",
    "        \n",
    "        y = Variable(y)\n",
    "        print(y)"
   ]
  },
  {
   "cell_type": "code",
   "execution_count": 373,
   "metadata": {},
   "outputs": [],
   "source": [
    "output_y(eigen_arr, x) \n",
    "#Here is a tensor of size 100 x 500, which is used to illustrate the 500 points per species of which\n",
    "#there are 100 "
   ]
  },
  {
   "cell_type": "code",
   "execution_count": 358,
   "metadata": {},
   "outputs": [],
   "source": [
    "#This is the training function for the neural network;\n",
    "#The model is trained over 1000 epochs for each and every eigenvalue,\n",
    "#and the result is y_pred, the Gaussian value predicted by the original model.\n",
    "#Hardcoded in is also Standard_Dev, which is assumed constant for all Gaussians.\n",
    "#I used only 100 epochs this time around for convenience, as instantiating this function by itself\n",
    "#is highly computationally intensive on my laptop without using GPU/Amazon EC2 instance/Scinet/etc.\n",
    "def output_generator(eigen_arr, x):\n",
    "    \n",
    "    EPOCHS = 100\n",
    "    Standard_Dev = 0.5\n",
    "    y_pred = []\n",
    "    \n",
    "    for j in range(len(eigen_arr)):\n",
    "        \n",
    "        z =  x - torch.FloatTensor(list(np.zeros(500) + eigen_arr[j]))\n",
    "        \n",
    "        y = torch.exp(-z.pow(2)/Standard_Dev**2*2, out=None)/np.sqrt(2*np.pi*Standard_Dev)\n",
    "        \n",
    "        x = Variable(x)\n",
    "        \n",
    "        y = Variable(y)\n",
    "    \n",
    "        for i in range(1,EPOCHS+1):\n",
    "  \n",
    "            prediction = mod(x)      \n",
    "\n",
    "            loss = loss_func(prediction, y)      \n",
    "\n",
    "            optimizer.zero_grad()    \n",
    "            \n",
    "            loss.backward()          \n",
    "            \n",
    "            optimizer.step()        \n",
    "            \n",
    "        y_pred.append(prediction.data)\n",
    "    return(y_pred)"
   ]
  },
  {
   "cell_type": "code",
   "execution_count": null,
   "metadata": {},
   "outputs": [],
   "source": [
    "#Below is the desired array of outputs for all 100 species!"
   ]
  },
  {
   "cell_type": "code",
   "execution_count": 374,
   "metadata": {},
   "outputs": [],
   "source": [
    "output_generator(eigen_arr,x) #500 datapoints * 100 species"
   ]
  },
  {
   "cell_type": "markdown",
   "metadata": {},
   "source": [
    "### Here are some scatterplots of the \"Gaussians\" (after only 100 epochs none of them will come close to approximating a normal distribution function) ; however, after say 1000 epochs we'd have three curves very identical to Gaussians of equal width (STD = 0.5) and different means(eigenvalues), i.e the same curve shifted horizontally. Until say 1000 epochs of training these are just scribbles that we are looking to improve."
   ]
  },
  {
   "cell_type": "code",
   "execution_count": 368,
   "metadata": {},
   "outputs": [],
   "source": [
    "Z = np.linspace(0,499,500)"
   ]
  },
  {
   "cell_type": "code",
   "execution_count": 372,
   "metadata": {},
   "outputs": [
    {
     "data": {
      "image/png": "[encoded data removed]",
      "text/plain": [
       "<Figure size 432x288 with 1 Axes>"
      ]
     },
     "metadata": {
      "needs_background": "light"
     },
     "output_type": "display_data"
    }
   ],
   "source": [
    "for i in range(0,3):\n",
    "    plt.scatter(Z,output_generator(eigen_arr,x)[i], alpha = 0.3)"
   ]
  }
 ],
 "metadata": {
  "kernelspec": {
   "display_name": "Python 3",
   "language": "python",
   "name": "python3"
  },
  "language_info": {
   "codemirror_mode": {
    "name": "ipython",
    "version": 3
   },
   "file_extension": ".py",
   "mimetype": "text/x-python",
   "name": "python",
   "nbconvert_exporter": "python",
   "pygments_lexer": "ipython3",
   "version": "3.7.6"
  }
 },
 "nbformat": 4,
 "nbformat_minor": 4
}
